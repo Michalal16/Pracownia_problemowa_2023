{
 "cells": [
  {
   "cell_type": "markdown",
   "metadata": {},
   "source": [
    "## Implementation"
   ]
  },
  {
   "cell_type": "code",
   "execution_count": 6,
   "metadata": {},
   "outputs": [
    {
     "name": "stdout",
     "output_type": "stream",
     "text": [
      "Dataset read successfully!\n"
     ]
    }
   ],
   "source": [
    "import pandas as pd\n",
    "import numpy as np\n",
    "\n",
    "import matplotlib.pyplot as plt\n",
    "from matplotlib.pyplot import figure\n",
    "import seaborn as sns\n",
    "\n",
    "from sklearn.metrics import confusion_matrix\n",
    "from sklearn.metrics import accuracy_score\n",
    "from sklearn.metrics import classification_report\n",
    "from sklearn.model_selection import train_test_split\n",
    "from sklearn import metrics\n",
    "from sklearn.model_selection import cross_val_score\n",
    "from sklearn import preprocessing\n",
    "\n",
    "from sklearn.model_selection import cross_val_predict\n",
    "from sklearn.model_selection import GridSearchCV\n",
    "import time\n",
    "\n",
    "from sklearn.tree import DecisionTreeClassifier\n",
    "from sklearn.linear_model import LogisticRegression\n",
    "from sklearn import svm\n",
    "from sklearn.neighbors import KNeighborsClassifier\n",
    "from sklearn.ensemble import RandomForestClassifier\n",
    "\n",
    "from sklearn import metrics\n",
    "\n",
    "\n",
    "# wczytanie danych z pliku CSV do dataframe'u\n",
    "data = pd.read_csv('./Dataset/dataset_sdn.csv')\n",
    "print(\"Dataset read successfully!\")\n"
   ]
  },
  {
   "cell_type": "code",
   "execution_count": 9,
   "metadata": {},
   "outputs": [],
   "source": [
    "#### Decision tree model\n",
    "\n",
    "class Model:\n",
    "    global y\n",
    "    def __init__(self, data):\n",
    "        self.data = data\n",
    "        X = preprocessing.StandardScaler().fit(self.data).transform(self.data)\n",
    "        self.X_train, self.X_test, self.y_train, self.y_test = train_test_split(X, y, random_state=42, test_size=0.3)  \n",
    "\n",
    "    def DecisionTree(self):\n",
    "        start_time = time.time()\n",
    "        tree = DecisionTreeClassifier()\n",
    "        dt_search = GridSearchCV(tree, param_grid={'criterion' : ['gini', 'entropy'],\n",
    "                                           'max_depth' : [2,3,4,5,6,7,8, 9, 10],\n",
    "                                           'max_leaf_nodes' : [2,3,4,5,6,7,8,9,10, 11]},\n",
    "                           n_jobs=-1, cv=5, scoring='accuracy', verbose=2)\n",
    "        \n",
    "        dt_search.fit(self.X_train, self.y_train)\n",
    "        \n",
    "        criterion = dt_search.best_params_['criterion']\n",
    "        max_depth = dt_search.best_params_['max_depth']\n",
    "        max_leaf_nodes = dt_search.best_params_['max_leaf_nodes']\n",
    "        \n",
    "        dtree = DecisionTreeClassifier(criterion=criterion, \n",
    "                                       max_depth=max_depth, \n",
    "                                       max_leaf_nodes=max_leaf_nodes).fit(self.X_train, self.y_train)\n",
    "        predicted_dt = dtree.predict(self.X_test)\n",
    "        accuracy_dt = metrics.accuracy_score(self.y_test, predicted_dt)\n",
    "        print(f\"criterion: {criterion}, max depth: {max_depth}, max_leaf: {max_leaf_nodes}\")\n",
    "        print(f\"The Accuracy is : {round(accuracy_dt * 100,2)}%\")\n",
    "        print(\"########################################################################\")\n",
    "        print(classification_report(predicted_dt, self.y_test))\n",
    "        print(\"########################################################################\")\n",
    "        \n",
    "        print(\"--- %s seconds ---\" % (time.time() - start_time))"
   ]
  },
  {
   "cell_type": "code",
   "execution_count": 11,
   "metadata": {},
   "outputs": [
    {
     "name": "stdout",
     "output_type": "stream",
     "text": [
      "Stworzyłem drzewo\n",
      "Fitting 5 folds for each of 180 candidates, totalling 900 fits\n",
      "Sfitowałem\n",
      "criterion: gini, max depth: 8, max_leaf: 11\n",
      "The Accuracy is : 98.22%\n",
      "########################################################################\n",
      "              precision    recall  f1-score   support\n",
      "\n",
      "           0       0.98      0.99      0.99     18743\n",
      "           1       0.99      0.97      0.98     12409\n",
      "\n",
      "    accuracy                           0.98     31152\n",
      "   macro avg       0.98      0.98      0.98     31152\n",
      "weighted avg       0.98      0.98      0.98     31152\n",
      "\n",
      "########################################################################\n",
      "--- 362.30884432792664 seconds ---\n"
     ]
    }
   ],
   "source": [
    "\n",
    "df = data.copy()\n",
    "df = df.dropna()\n",
    "X = df.drop(['dt','src','dst','label'], axis=1)\n",
    "y = df.label\n",
    "\n",
    "X = pd.get_dummies(X)\n",
    "M = Model(X)\n",
    "M.DecisionTree()"
   ]
  },
  {
   "cell_type": "code",
   "execution_count": null,
   "metadata": {},
   "outputs": [],
   "source": []
  }
 ],
 "metadata": {
  "kernelspec": {
   "display_name": "Python 3 (ipykernel)",
   "language": "python",
   "name": "python3"
  },
  "language_info": {
   "codemirror_mode": {
    "name": "ipython",
    "version": 3
   },
   "file_extension": ".py",
   "mimetype": "text/x-python",
   "name": "python",
   "nbconvert_exporter": "python",
   "pygments_lexer": "ipython3",
   "version": "3.10.9"
  },
  "vscode": {
   "interpreter": {
    "hash": "e7370f93d1d0cde622a1f8e1c04877d8463912d04d973331ad4851f04de6915a"
   }
  }
 },
 "nbformat": 4,
 "nbformat_minor": 2
}
